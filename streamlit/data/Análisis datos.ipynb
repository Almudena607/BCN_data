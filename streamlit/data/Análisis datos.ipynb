{
 "cells": [
  {
   "cell_type": "markdown",
   "id": "66096914",
   "metadata": {},
   "source": [
    "# 2. Librerías"
   ]
  },
  {
   "cell_type": "code",
   "execution_count": 3,
   "id": "86d849de",
   "metadata": {},
   "outputs": [],
   "source": [
    "import pandas as pd\n",
    "from st_data import all_neigh, get_neighborhoods"
   ]
  },
  {
   "cell_type": "code",
   "execution_count": 24,
   "id": "5780aefd",
   "metadata": {},
   "outputs": [],
   "source": [
    "tipo = type(get_neighborhoods())"
   ]
  },
  {
   "cell_type": "code",
   "execution_count": 25,
   "id": "02b2129c",
   "metadata": {},
   "outputs": [
    {
     "data": {
      "text/plain": [
       "dict"
      ]
     },
     "execution_count": 25,
     "metadata": {},
     "output_type": "execute_result"
    }
   ],
   "source": [
    "tipo"
   ]
  },
  {
   "cell_type": "code",
   "execution_count": 26,
   "id": "7e61f9fe",
   "metadata": {},
   "outputs": [
    {
     "data": {
      "text/plain": [
       "0    0\n",
       "1    0\n",
       "2    0\n",
       "3    0\n",
       "4    0\n",
       "5    0\n",
       "6    0\n",
       "7    0\n",
       "8    0\n",
       "9    0\n",
       "Name: page, dtype: int64"
      ]
     },
     "execution_count": 26,
     "metadata": {},
     "output_type": "execute_result"
    }
   ],
   "source": [
    "df = pd.DataFrame.from_dict(get_neighborhoods())\n",
    "df.pop(\"page\")"
   ]
  },
  {
   "cell_type": "code",
   "execution_count": 49,
   "id": "be7d80ec",
   "metadata": {},
   "outputs": [
    {
     "data": {
      "text/html": [
       "<div>\n",
       "<style scoped>\n",
       "    .dataframe tbody tr th:only-of-type {\n",
       "        vertical-align: middle;\n",
       "    }\n",
       "\n",
       "    .dataframe tbody tr th {\n",
       "        vertical-align: top;\n",
       "    }\n",
       "\n",
       "    .dataframe thead th {\n",
       "        text-align: right;\n",
       "    }\n",
       "</style>\n",
       "<table border=\"1\" class=\"dataframe\">\n",
       "  <thead>\n",
       "    <tr style=\"text-align: right;\">\n",
       "      <th></th>\n",
       "      <th>results</th>\n",
       "    </tr>\n",
       "  </thead>\n",
       "  <tbody>\n",
       "    <tr>\n",
       "      <th>0</th>\n",
       "      <td>{'Total Immigrants': 2765, 'Total Unemployed':...</td>\n",
       "    </tr>\n",
       "    <tr>\n",
       "      <th>1</th>\n",
       "      <td>{'Total Immigrants': 2839, 'Total Unemployed':...</td>\n",
       "    </tr>\n",
       "    <tr>\n",
       "      <th>2</th>\n",
       "      <td>{'Total Immigrants': 283, 'Total Unemployed': ...</td>\n",
       "    </tr>\n",
       "    <tr>\n",
       "      <th>3</th>\n",
       "      <td>{'Total Immigrants': 140, 'Total Unemployed': ...</td>\n",
       "    </tr>\n",
       "    <tr>\n",
       "      <th>4</th>\n",
       "      <td>{'Total Immigrants': 458, 'Total Unemployed': ...</td>\n",
       "    </tr>\n",
       "  </tbody>\n",
       "</table>\n",
       "</div>"
      ],
      "text/plain": [
       "                                             results\n",
       "0  {'Total Immigrants': 2765, 'Total Unemployed':...\n",
       "1  {'Total Immigrants': 2839, 'Total Unemployed':...\n",
       "2  {'Total Immigrants': 283, 'Total Unemployed': ...\n",
       "3  {'Total Immigrants': 140, 'Total Unemployed': ...\n",
       "4  {'Total Immigrants': 458, 'Total Unemployed': ..."
      ]
     },
     "execution_count": 49,
     "metadata": {},
     "output_type": "execute_result"
    }
   ],
   "source": [
    "df.head()"
   ]
  },
  {
   "cell_type": "code",
   "execution_count": 109,
   "id": "dc7f2e1e",
   "metadata": {},
   "outputs": [],
   "source": [
    "def data_fr():\n",
    "    df = pd.DataFrame.from_dict(get_neighborhoods())\n",
    "    barrios = []\n",
    "    inmigrantes = []\n",
    "    desempleados = []\n",
    "    poblacion = []\n",
    "    for d in df[\"results\"]:\n",
    "        for v in d:\n",
    "            for i in v:\n",
    "                if \"_id\" == i:\n",
    "                    barrios.append(v[\"_id\"])\n",
    "                elif \"Total Immigrants\" == i:\n",
    "                    inmigrantes.append(v[\"Total Immigrants\"])\n",
    "                elif \"Total Population\" == i:\n",
    "                    poblacion.append(v[\"Total Population\"])\n",
    "                elif \"Total Unemployed\" == i:\n",
    "                    desempleados.append(v[\"Total Unemployed\"])\n",
    "                    \n",
    "    print(i)\n",
    "    print(inmigrantes)\n",
    "    print(poblacion)\n",
    "    print(desempleados)\n",
    "    "
   ]
  },
  {
   "cell_type": "code",
   "execution_count": 110,
   "id": "0ea82c43",
   "metadata": {},
   "outputs": [
    {
     "name": "stdout",
     "output_type": "stream",
     "text": [
      "Total Population\n",
      "[2765, 2839, 283, 140, 458, 57, 3587, 1398, 2201, 32]\n",
      "[22721, 41127, 9383, 6856, 7261, 2271, 50662, 25000, 38168, 1149]\n",
      "[22002, 27193, 7632, 6980, 9514, 1745, 31988, 19684, 29109, 1670]\n"
     ]
    }
   ],
   "source": [
    "data_fr()"
   ]
  },
  {
   "cell_type": "markdown",
   "id": "5bb8e812",
   "metadata": {},
   "source": [
    "# 3. Análisis de datos\n",
    "Análisis sencillo de los datos de cada collection con mongo"
   ]
  },
  {
   "cell_type": "markdown",
   "id": "7a90a487",
   "metadata": {},
   "source": [
    "# 4. Visualización de datos"
   ]
  },
  {
   "cell_type": "code",
   "execution_count": 7,
   "id": "4b0b991c",
   "metadata": {},
   "outputs": [],
   "source": [
    "import matplotlib.pyplot as plt"
   ]
  },
  {
   "cell_type": "code",
   "execution_count": null,
   "id": "f3ca5e54",
   "metadata": {},
   "outputs": [],
   "source": []
  }
 ],
 "metadata": {
  "kernelspec": {
   "display_name": "Python 3 (ipykernel)",
   "language": "python",
   "name": "python3"
  },
  "language_info": {
   "codemirror_mode": {
    "name": "ipython",
    "version": 3
   },
   "file_extension": ".py",
   "mimetype": "text/x-python",
   "name": "python",
   "nbconvert_exporter": "python",
   "pygments_lexer": "ipython3",
   "version": "3.9.13"
  }
 },
 "nbformat": 4,
 "nbformat_minor": 5
}
